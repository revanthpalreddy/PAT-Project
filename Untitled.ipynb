{
 "cells": [
  {
   "cell_type": "code",
   "execution_count": 8,
   "id": "63f3938d",
   "metadata": {},
   "outputs": [],
   "source": [
    "import pandas as pd\n",
    "from matplotlib import pyplot as plt"
   ]
  },
  {
   "cell_type": "code",
   "execution_count": 9,
   "id": "a71d9c69",
   "metadata": {},
   "outputs": [],
   "source": [
    "data = pd.read_csv('data/PyDrillerAuthors.csv')"
   ]
  },
  {
   "cell_type": "code",
   "execution_count": 10,
   "id": "20ec9087",
   "metadata": {},
   "outputs": [],
   "source": [
    " dataframe = pd.DataFrame(data)"
   ]
  },
  {
   "cell_type": "code",
   "execution_count": 11,
   "id": "099641db",
   "metadata": {},
   "outputs": [
    {
     "data": {
      "text/html": [
       "<div>\n",
       "<style scoped>\n",
       "    .dataframe tbody tr th:only-of-type {\n",
       "        vertical-align: middle;\n",
       "    }\n",
       "\n",
       "    .dataframe tbody tr th {\n",
       "        vertical-align: top;\n",
       "    }\n",
       "\n",
       "    .dataframe thead th {\n",
       "        text-align: right;\n",
       "    }\n",
       "</style>\n",
       "<table border=\"1\" class=\"dataframe\">\n",
       "  <thead>\n",
       "    <tr style=\"text-align: right;\">\n",
       "      <th></th>\n",
       "      <th>names</th>\n",
       "      <th>count</th>\n",
       "    </tr>\n",
       "  </thead>\n",
       "  <tbody>\n",
       "    <tr>\n",
       "      <th>0</th>\n",
       "      <td>Eric Jones</td>\n",
       "      <td>248</td>\n",
       "    </tr>\n",
       "    <tr>\n",
       "      <th>1</th>\n",
       "      <td>Pearu Peterson</td>\n",
       "      <td>1106</td>\n",
       "    </tr>\n",
       "    <tr>\n",
       "      <th>2</th>\n",
       "      <td>Travis Oliphant</td>\n",
       "      <td>1991</td>\n",
       "    </tr>\n",
       "    <tr>\n",
       "      <th>3</th>\n",
       "      <td>prabhu</td>\n",
       "      <td>13</td>\n",
       "    </tr>\n",
       "    <tr>\n",
       "      <th>4</th>\n",
       "      <td>Travis Vaught</td>\n",
       "      <td>7</td>\n",
       "    </tr>\n",
       "    <tr>\n",
       "      <th>...</th>\n",
       "      <td>...</td>\n",
       "      <td>...</td>\n",
       "    </tr>\n",
       "    <tr>\n",
       "      <th>1564</th>\n",
       "      <td>Namami Shanker</td>\n",
       "      <td>3</td>\n",
       "    </tr>\n",
       "    <tr>\n",
       "      <th>1565</th>\n",
       "      <td>Andrey Andreyevich Bienkowski</td>\n",
       "      <td>2</td>\n",
       "    </tr>\n",
       "    <tr>\n",
       "      <th>1566</th>\n",
       "      <td>Siyabend Ürün</td>\n",
       "      <td>1</td>\n",
       "    </tr>\n",
       "    <tr>\n",
       "      <th>1567</th>\n",
       "      <td>code-review-doctor</td>\n",
       "      <td>1</td>\n",
       "    </tr>\n",
       "    <tr>\n",
       "      <th>1568</th>\n",
       "      <td>John-Mark Gurney</td>\n",
       "      <td>1</td>\n",
       "    </tr>\n",
       "  </tbody>\n",
       "</table>\n",
       "<p>1569 rows × 2 columns</p>\n",
       "</div>"
      ],
      "text/plain": [
       "                              names  count\n",
       "0                        Eric Jones    248\n",
       "1                    Pearu Peterson   1106\n",
       "2                   Travis Oliphant   1991\n",
       "3                            prabhu     13\n",
       "4                     Travis Vaught      7\n",
       "...                             ...    ...\n",
       "1564                 Namami Shanker      3\n",
       "1565  Andrey Andreyevich Bienkowski      2\n",
       "1566                  Siyabend Ürün      1\n",
       "1567             code-review-doctor      1\n",
       "1568               John-Mark Gurney      1\n",
       "\n",
       "[1569 rows x 2 columns]"
      ]
     },
     "execution_count": 11,
     "metadata": {},
     "output_type": "execute_result"
    }
   ],
   "source": [
    "dataframe"
   ]
  },
  {
   "cell_type": "code",
   "execution_count": 18,
   "id": "ebf764f8",
   "metadata": {},
   "outputs": [
    {
     "data": {
      "text/html": [
       "<div>\n",
       "<style scoped>\n",
       "    .dataframe tbody tr th:only-of-type {\n",
       "        vertical-align: middle;\n",
       "    }\n",
       "\n",
       "    .dataframe tbody tr th {\n",
       "        vertical-align: top;\n",
       "    }\n",
       "\n",
       "    .dataframe thead th {\n",
       "        text-align: right;\n",
       "    }\n",
       "</style>\n",
       "<table border=\"1\" class=\"dataframe\">\n",
       "  <thead>\n",
       "    <tr style=\"text-align: right;\">\n",
       "      <th></th>\n",
       "      <th>names</th>\n",
       "      <th>count</th>\n",
       "    </tr>\n",
       "  </thead>\n",
       "  <tbody>\n",
       "    <tr>\n",
       "      <th>19</th>\n",
       "      <td>Charles Harris</td>\n",
       "      <td>5562</td>\n",
       "    </tr>\n",
       "    <tr>\n",
       "      <th>2</th>\n",
       "      <td>Travis Oliphant</td>\n",
       "      <td>1991</td>\n",
       "    </tr>\n",
       "    <tr>\n",
       "      <th>30</th>\n",
       "      <td>David Cournapeau</td>\n",
       "      <td>1525</td>\n",
       "    </tr>\n",
       "    <tr>\n",
       "      <th>131</th>\n",
       "      <td>Sebastian Berg</td>\n",
       "      <td>1337</td>\n",
       "    </tr>\n",
       "    <tr>\n",
       "      <th>532</th>\n",
       "      <td>Eric Wieser</td>\n",
       "      <td>1238</td>\n",
       "    </tr>\n",
       "    <tr>\n",
       "      <th>...</th>\n",
       "      <td>...</td>\n",
       "      <td>...</td>\n",
       "    </tr>\n",
       "    <tr>\n",
       "      <th>1370</th>\n",
       "      <td>Dong Keun Oh</td>\n",
       "      <td>1</td>\n",
       "    </tr>\n",
       "    <tr>\n",
       "      <th>1364</th>\n",
       "      <td>Adrian Price-Whelan</td>\n",
       "      <td>1</td>\n",
       "    </tr>\n",
       "    <tr>\n",
       "      <th>1204</th>\n",
       "      <td>Jesse Li</td>\n",
       "      <td>1</td>\n",
       "    </tr>\n",
       "    <tr>\n",
       "      <th>1205</th>\n",
       "      <td>DumbMice</td>\n",
       "      <td>1</td>\n",
       "    </tr>\n",
       "    <tr>\n",
       "      <th>1568</th>\n",
       "      <td>John-Mark Gurney</td>\n",
       "      <td>1</td>\n",
       "    </tr>\n",
       "  </tbody>\n",
       "</table>\n",
       "<p>1569 rows × 2 columns</p>\n",
       "</div>"
      ],
      "text/plain": [
       "                    names  count\n",
       "19         Charles Harris   5562\n",
       "2         Travis Oliphant   1991\n",
       "30       David Cournapeau   1525\n",
       "131        Sebastian Berg   1337\n",
       "532           Eric Wieser   1238\n",
       "...                   ...    ...\n",
       "1370         Dong Keun Oh      1\n",
       "1364  Adrian Price-Whelan      1\n",
       "1204             Jesse Li      1\n",
       "1205             DumbMice      1\n",
       "1568     John-Mark Gurney      1\n",
       "\n",
       "[1569 rows x 2 columns]"
      ]
     },
     "execution_count": 18,
     "metadata": {},
     "output_type": "execute_result"
    }
   ],
   "source": [
    "dataframe = dataframe.sort_values('count', ascending=False)\n",
    "dataframe"
   ]
  },
  {
   "cell_type": "code",
   "execution_count": 19,
   "id": "d8569122",
   "metadata": {},
   "outputs": [],
   "source": [
    "count1 = list(dataframe.iloc[:6, 0])\n",
    "num_of_occurences1 = list(dataframe.iloc[:6, 1])"
   ]
  },
  {
   "cell_type": "code",
   "execution_count": 20,
   "id": "0df37c23",
   "metadata": {},
   "outputs": [
    {
     "data": {
      "text/plain": [
       "['Charles Harris',\n",
       " 'Travis Oliphant',\n",
       " 'David Cournapeau',\n",
       " 'Sebastian Berg',\n",
       " 'Eric Wieser',\n",
       " 'Matti Picus']"
      ]
     },
     "execution_count": 20,
     "metadata": {},
     "output_type": "execute_result"
    }
   ],
   "source": [
    "count1"
   ]
  },
  {
   "cell_type": "code",
   "execution_count": 40,
   "id": "a25f4c20",
   "metadata": {},
   "outputs": [
    {
     "data": {
      "image/png": "[encoded data removed]",
      "text/plain": [
       "<Figure size 432x288 with 1 Axes>"
      ]
     },
     "metadata": {
      "needs_background": "light"
     },
     "output_type": "display_data"
    }
   ],
   "source": [
    "data = pd.read_csv('data/PyDrillerAuthors.csv')\n",
    "dataframe = pd.DataFrame(data)\n",
    "dataframe = dataframe.sort_values('count', ascending=False)\n",
    "name = list(dataframe.iloc[:6, 0])\n",
    "count = list(dataframe.iloc[:6, 1])\n",
    "plt.bar(name, count, color='b')\n",
    "plt.xticks(name, name, rotation =20)\n",
    "plt.title(\"Top Contributors\")\n",
    "plt.xlabel(\"count\")\n",
    "plt.ylabel(\"Number of Authors\")\n",
    "\n",
    "plt.show()"
   ]
  },
  {
   "cell_type": "code",
   "execution_count": 24,
   "id": "f63f3e45",
   "metadata": {},
   "outputs": [
    {
     "data": {
      "text/plain": [
       "['Charles Harris',\n",
       " 'Travis Oliphant',\n",
       " 'David Cournapeau',\n",
       " 'Sebastian Berg',\n",
       " 'Eric Wieser',\n",
       " 'Matti Picus']"
      ]
     },
     "execution_count": 24,
     "metadata": {},
     "output_type": "execute_result"
    }
   ],
   "source": [
    "name"
   ]
  },
  {
   "cell_type": "code",
   "execution_count": 25,
   "id": "64541905",
   "metadata": {},
   "outputs": [
    {
     "data": {
      "text/plain": [
       "[5562, 1991, 1525, 1337, 1238, 1203]"
      ]
     },
     "execution_count": 25,
     "metadata": {},
     "output_type": "execute_result"
    }
   ],
   "source": [
    "count"
   ]
  },
  {
   "cell_type": "code",
   "execution_count": null,
   "id": "896c2de9",
   "metadata": {},
   "outputs": [],
   "source": []
  }
 ],
 "metadata": {
  "kernelspec": {
   "display_name": "Python 3",
   "language": "python",
   "name": "python3"
  },
  "language_info": {
   "codemirror_mode": {
    "name": "ipython",
    "version": 3
   },
   "file_extension": ".py",
   "mimetype": "text/x-python",
   "name": "python",
   "nbconvert_exporter": "python",
   "pygments_lexer": "ipython3",
   "version": "3.8.8"
  }
 },
 "nbformat": 4,
 "nbformat_minor": 5
}
